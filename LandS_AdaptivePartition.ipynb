{
 "cells": [
  {
   "cell_type": "markdown",
   "metadata": {},
   "source": [
    "# GAPM for LandS problem\n",
    "This notebook shows an implementation of the Generalized Adaptive Partition Method for the LandS problem. \n",
    "\n",
    "Disclaimer: I tried to keep it simple, using standard data structures and straigthforward formulations. Many steps can be done more efficiently. "
   ]
  },
  {
   "cell_type": "markdown",
   "metadata": {},
   "source": [
    "This notebook requires Gurobi (https://www.gurobi.com) as optimization solver."
   ]
  },
  {
   "cell_type": "code",
   "execution_count": 1,
   "metadata": {},
   "outputs": [],
   "source": [
    "import gurobipy as gp\n",
    "import math\n",
    "from gurobipy import GRB\n",
    "from gurobipy import quicksum"
   ]
  },
  {
   "cell_type": "markdown",
   "metadata": {},
   "source": [
    "We start creating the scenarios and the other data of the problem"
   ]
  },
  {
   "cell_type": "code",
   "execution_count": 2,
   "metadata": {},
   "outputs": [],
   "source": [
    "nscen = 1000000\n",
    "scen_full = []\n",
    "prob_full = []\n",
    "for i in range (1,101):\n",
    "    for j in range(1,101):\n",
    "        for k in range(1,101):\n",
    "            scen_full.append([0.04*(i-1),0.04*(j-1),0.04*(k-1)])\n",
    "            prob_full.append(1/nscen)\n",
    "cost = [10,7,16,6]\n",
    "flow = [[40,24,4],\n",
    "        [45,27,4.5],\n",
    "        [32,19.2,3.2],\n",
    "        [55,33,5.5]]\n",
    "budget = 120\n",
    "minCap = 12\n",
    "nx = 4\n",
    "ny = 3"
   ]
  },
  {
   "cell_type": "markdown",
   "metadata": {},
   "source": [
    "We create a *Master* problem, which is the deterministic equivalent formulation of the LandS problem, but for an arbitrary set of scenarios $S$, each of them with its corresponding probability $p_s$. "
   ]
  },
  {
   "cell_type": "markdown",
   "metadata": {},
   "source": [
    "The formulation of this problem is the following:\n",
    "\n",
    "$$[MP] := \\min_{x,y \\geq 0}   \\sum_{i=1}^4  cost_i x_i + \\sum_{s\\in S} p_s \\sum_{i=1}^3 \\sum_{j=1}^3flow_{ij}y_{ij}^s$$\n",
    "$$\\sum_{i=1}^4  x_i \\geq minCap$$\n",
    "$$\\sum_{i=1}^4 c_ix_i \\leq budget$$\n",
    "$$\\sum_{j=1}^3 y_{ij}^s \\leq x_i ~\\forall~ i\\in 1\\ldots 4, \\forall s\\in S$$\n",
    "$$\\sum_{i=1}^4 y_{ij}^s \\geq d_j^s  ~\\forall~ j\\in 1\\ldots 3,  \\forall s\\in S$$"
   ]
  },
  {
   "cell_type": "markdown",
   "metadata": {},
   "source": [
    "The master problem solve this formulation, and return the solution and the objective."
   ]
  },
  {
   "cell_type": "code",
   "execution_count": 3,
   "metadata": {},
   "outputs": [],
   "source": [
    "def Master(scen,prob):\n",
    "    nz = len(scen)\n",
    "    m = gp.Model(\"master\")\n",
    "    m.Params.OutputFlag = 0\n",
    "    Xvar = m.addVars(nx,vtype=GRB.CONTINUOUS,name='x')\n",
    "    Yvar = m.addVars(nx,ny,nz,vtype=GRB.CONTINUOUS, name = 'y')\n",
    "    consBudget = m.addConstr(quicksum(Xvar[i]*cost[i] for i in range(nx)) <= budget)\n",
    "    consMinCap = m.addConstr(quicksum(Xvar[i] for i in range(nx)) >= minCap)\n",
    "    consCap = m.addConstrs(quicksum(Yvar[i,j,k] for j in range(ny)) <= Xvar[i] for i in range(nx) for k in range(nz))\n",
    "    for j in range(0,ny):\n",
    "        consFlow = m.addConstrs(quicksum(Yvar[i,j,k] for i in range(nx)) >= scen[k][j] for k in range(nz))\n",
    "    m.setObjective(quicksum(Xvar[i]*cost[i] for i in range(nx)) + quicksum(quicksum(prob[k]*Yvar[i,j,k]*flow[i][j]\n",
    "    for j in range(ny) for k in range(nz)) for i in range(nx)), GRB.MINIMIZE)\n",
    "    m.optimize()\n",
    "    LB = m.objVal\n",
    "    x = [Xvar[i].x for i in range(nx)]\n",
    "    return(x,LB)"
   ]
  },
  {
   "cell_type": "markdown",
   "metadata": {},
   "source": [
    "The subproblem is the second-stage problem for a fixed $\\hat{x}$. That is\n",
    "$$[SP] := \\sum_{i=1}^3 \\sum_{j=1}^3flow_{ij}y_{ij}^s$$\n",
    "$$\\sum_{j=1}^3 y_{ij}^s \\leq \\hat{x}_i ~\\forall~ i\\in 1\\ldots 4, \\forall s\\in S$$\n",
    "$$\\sum_{i=1}^4 y_{ij}^s \\geq d_j^s  ~\\forall~ j\\in 1\\ldots 3,  \\forall s\\in S$$"
   ]
  },
  {
   "cell_type": "markdown",
   "metadata": {},
   "source": [
    "We solve this problem for each scenarios $s\\in S$ and return the objective value and the duals. In this case, we only requires the dual of the second constraints (see [Ramirez-Pico & Moreno, 2022](https://link.springer.com/article/10.1007/s10107-020-01609-8). The sum of the objective of each subproblem, plus the cost of the current first-stage solution $\\hat{x}$  provides an upper bound for the problem."
   ]
  },
  {
   "cell_type": "code",
   "execution_count": 14,
   "metadata": {},
   "outputs": [],
   "source": [
    "def Sub(x):\n",
    "    nz = len(scen_full)\n",
    "    m = gp.Model(\"subproblem\")\n",
    "    m.Params.OutputFlag = 0\n",
    "    Yvar = m.addVars(nx,ny,vtype=GRB.CONTINUOUS, name = 'y')\n",
    "    consCap = m.addConstrs(quicksum(Yvar[i,j] for j in range(ny)) <= x[i] for i in range(nx))\n",
    "    consFlow = m.addConstrs(quicksum(Yvar[i,j] for i in range(nx)) >= 0 for j in range(ny))\n",
    "    m.setObjective(quicksum(Yvar[i,j]*flow[i][j] for i in range(nx) for j in range(ny))) \n",
    "    duals = []\n",
    "    UB = sum([x[i]*cost[i] for i in range(nx)])\n",
    "    for k in range(nscen):\n",
    "        #if (k%100000)==0:\n",
    "        #    print(\"Solving subproblem %d\" % k)\n",
    "        for j in range(ny):\n",
    "            consFlow[j].RHS = scen_full[k][j]\n",
    "        m.optimize()\n",
    "        UB += prob_full[k]*m.objVal\n",
    "        dualFlow = tuple([consFlow[j].pi for j in range(ny)])\n",
    "        duals.append(dualFlow)\n",
    "    return(duals,UB)"
   ]
  },
  {
   "cell_type": "markdown",
   "metadata": {},
   "source": [
    "Finally, starting with a partition of the scenarios, for each subset of the partition we dissagregate its scenarios into subsets sharing the same dual variables."
   ]
  },
  {
   "cell_type": "code",
   "execution_count": 6,
   "metadata": {},
   "outputs": [],
   "source": [
    "def refine(duals, partition_prev):\n",
    "    partition_new = []\n",
    "    for i in list(set(duals)):\n",
    "        partition_new.append([k for k in range(len(scen_full)) if duals[k] == i])\n",
    "    partition = []\n",
    "    for i in partition_prev:\n",
    "        for j in partition_new:\n",
    "            sub = set(i).intersection(set(j))\n",
    "            if sub != set():\n",
    "                partition.append(list(sub))\n",
    "    # We recompute the average of each subset and the probability of them\n",
    "    Aggscen = []\n",
    "    prob = []\n",
    "    for subset in partition:\n",
    "        probLocal = 0\n",
    "        scen = [0,0,0]\n",
    "        for k in subset:\n",
    "            for j in range(ny):\n",
    "                scen[j] += prob_full[k]*scen_full[k][j]\n",
    "            probLocal += prob_full[k]\n",
    "        for j in range(ny):\n",
    "            scen[j] = scen[j]/probLocal       \n",
    "        Aggscen.append(scen)\n",
    "        prob.append(probLocal)\n",
    "    return(Aggscen,prob,partition)\n",
    "    "
   ]
  },
  {
   "cell_type": "markdown",
   "metadata": {},
   "source": [
    "We iterate to apply the GAPM. We start with a partition containing all scenarios, and iterate solving the master (to get an $x$ and a lower bound), solving the subproblems (to get the duals and an upper bound) and refining the partition. You can define a stoping criteria when LB ~ UB."
   ]
  },
  {
   "cell_type": "code",
   "execution_count": 9,
   "metadata": {},
   "outputs": [],
   "source": [
    "def Gap(UB,LB):\n",
    "    return(abs(UB-LB)*100/UB)"
   ]
  },
  {
   "cell_type": "code",
   "execution_count": 12,
   "metadata": {},
   "outputs": [],
   "source": [
    "def iter(max_iter = 100, stop_gap = 1e-6):\n",
    "    aux = 0\n",
    "    UB = 1e6\n",
    "    LB = 0\n",
    "    aux = 0\n",
    "    # initial partition containig all scenarios\n",
    "    Part_aux = [list(range(len(scen_full)))]\n",
    "    Agg_aux = [[sum([scen_full[k][j]*prob_full[k] for k in range(len(scen_full))]) for j in range(ny)]]\n",
    "    prob_aux = [sum(prob_full)]\n",
    "    Gaps = []\n",
    "    UBs = []\n",
    "    LBs = []\n",
    "    Aggs = []\n",
    "    Sols = []\n",
    "    Parts = []\n",
    "    while(aux <= max_iter and Gap(UB,LB) > stop_gap):\n",
    "        aux = aux + 1\n",
    "        (Master_aux, LB) = Master(Agg_aux,prob_aux)\n",
    "        (duals, UB) = Sub(Master_aux)\n",
    "        (Agg_aux, prob_aux,Part_aux) = refine(duals,Part_aux)\n",
    "        print(\"Iter:%3d LB=%3.4f UB=%3.4f GAP=%1.5f%% Part_size=%3d\" % (aux,LB,UB,Gap(UB,LB),len(Part_aux)))\n",
    "        UBs.append(UB)\n",
    "        LBs.append(LB)\n",
    "        Gaps.append(Gap(UB,LB))\n",
    "        Aggs.append(Agg_aux)\n",
    "        Sols.append(Master_aux)\n",
    "        Parts.append(Part_aux)\n",
    "    return (UBs,LBs,Gaps,Aggs,Sols,Parts)"
   ]
  },
  {
   "cell_type": "markdown",
   "metadata": {},
   "source": [
    "And we iterate. Warning: solving the subproblems can take a long time depending on your computer."
   ]
  },
  {
   "cell_type": "code",
   "execution_count": 15,
   "metadata": {
    "tags": []
   },
   "outputs": [
    {
     "name": "stdout",
     "output_type": "stream",
     "text": [
      "Iter:  1 LB=221.4900 UB=228.6969 GAP=3.15129% Part_size= 17\n",
      "Iter:  2 LB=224.5183 UB=225.9386 GAP=0.62864% Part_size= 72\n",
      "Iter:  3 LB=225.3638 UB=225.7268 GAP=0.16083% Part_size=179\n",
      "Iter:  4 LB=225.5180 UB=225.6354 GAP=0.05203% Part_size=369\n",
      "Iter:  5 LB=225.6155 UB=225.6362 GAP=0.00919% Part_size=657\n",
      "Iter:  6 LB=225.6259 UB=225.6307 GAP=0.00215% Part_size=1048\n",
      "Iter:  7 LB=225.6285 UB=225.6299 GAP=0.00060% Part_size=1373\n",
      "Iter:  8 LB=225.6294 UB=225.6294 GAP=0.00000% Part_size=1374\n"
     ]
    }
   ],
   "source": [
    "(UBs,LBs,Gaps,Aggs, Sols, Parts) = iter(20)"
   ]
  },
  {
   "cell_type": "markdown",
   "metadata": {},
   "source": [
    "We can see the evolution of the solution found at each iteration"
   ]
  },
  {
   "cell_type": "code",
   "execution_count": 16,
   "metadata": {
    "tags": []
   },
   "outputs": [
    {
     "name": "stdout",
     "output_type": "stream",
     "text": [
      "1.9800 0.0000 1.9800 8.0400\n",
      "1.6072 2.4334 1.4848 6.4745\n",
      "0.7994 4.0063 1.7406 5.4537\n",
      "0.9600 3.2439 1.8600 5.9361\n",
      "0.7600 3.5467 1.9200 5.7733\n",
      "0.8600 3.3800 1.9000 5.8600\n",
      "0.8600 3.3601 1.8800 5.8999\n",
      "0.8400 3.4000 1.8800 5.8800\n"
     ]
    }
   ],
   "source": [
    "for i in Sols:\n",
    "    print(\"%1.4f %1.4f %1.4f %1.4f\" % (i[0], i[1], i[2],i[3]))"
   ]
  },
  {
   "cell_type": "markdown",
   "metadata": {},
   "source": [
    "And the objetive value"
   ]
  },
  {
   "cell_type": "code",
   "execution_count": 17,
   "metadata": {
    "tags": []
   },
   "outputs": [
    {
     "name": "stdout",
     "output_type": "stream",
     "text": [
      "228.6969 221.4900 3.15129%\n",
      "225.9386 224.5183 0.62864%\n",
      "225.7268 225.3638 0.16083%\n",
      "225.6354 225.5180 0.05203%\n",
      "225.6362 225.6155 0.00919%\n",
      "225.6307 225.6259 0.00215%\n",
      "225.6299 225.6285 0.00060%\n",
      "225.6294 225.6294 0.00000%\n"
     ]
    }
   ],
   "source": [
    "for i in list(zip(UBs,LBs,Gaps)):\n",
    "    print(\"%3.4f %3.4f %1.5f%%\" % (i[0], i[1], i[2]))"
   ]
  },
  {
   "cell_type": "markdown",
   "metadata": {
    "tags": []
   },
   "source": [
    "We store the final partition, so we can validate the solution found using an exact solver."
   ]
  },
  {
   "cell_type": "code",
   "execution_count": 27,
   "metadata": {},
   "outputs": [],
   "source": [
    "partFinal = Parts[-1:][0]\n",
    "AggFinal = Aggs[-1:][0]\n",
    "probFinal = [len(partFinal[k])/nscen for k in range(len(partFinal))]"
   ]
  },
  {
   "cell_type": "code",
   "execution_count": 30,
   "metadata": {},
   "outputs": [],
   "source": [
    "with open('partition.txt', 'w') as f: \n",
    "    for k in range(len(partFinal)):\n",
    "        f.write(\"%d: %0.6f\" % (k,probFinal[k])) # id and its probability\n",
    "        for j in range(ny):\n",
    "            f.write(\" %0.6f\" % AggFinal[k][j]) # aggregated demand\n",
    "        for s in partFinal[k]:\n",
    "            f.write(\" %d\" % s) #scenarios in the partition\n",
    "        f.write(\"\\n\")\n"
   ]
  }
 ],
 "metadata": {
  "kernelspec": {
   "display_name": "Python 3.7.7 64-bit",
   "language": "python",
   "name": "python37764bitbf82ff8733e44256b381353da7db86a3"
  },
  "language_info": {
   "codemirror_mode": {
    "name": "ipython",
    "version": 3
   },
   "file_extension": ".py",
   "mimetype": "text/x-python",
   "name": "python",
   "nbconvert_exporter": "python",
   "pygments_lexer": "ipython3",
   "version": "3.9.7"
  }
 },
 "nbformat": 4,
 "nbformat_minor": 4
}
